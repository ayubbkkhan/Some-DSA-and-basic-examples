{
 "cells": [
  {
   "cell_type": "markdown",
   "id": "1709e77a",
   "metadata": {},
   "source": [
    "# Array\n",
    "An array is a vector containing homogeneous elements i.e. belonging to the same data type. Elements are allocated with contiguous memory locations allowing easy modification, that is, addition, deletion, accessing of elements.\n",
    "# List\n",
    "A list in Python is a collection of items which can contain elements of multiple data types, which may be either numeric, character logical values, etc. It is an ordered collection supporting negative indexing. A list can be created using [] containing data values."
   ]
  },
  {
   "cell_type": "markdown",
   "id": "42bcdc06",
   "metadata": {},
   "source": [
    "# Quick Sort\n",
    "### Best Case O(nlog n) \n",
    "When the pivot element is always the middle element or near to the middle element.\n",
    "### Worst Case O(n2)\n",
    "The pivot element picked is either the greatest or the smallest element.\n",
    "\n",
    "###  Space Complexity\n",
    "The space complexity for quicksort is O(log n).\n",
    "### Stability No"
   ]
  },
  {
   "cell_type": "code",
   "execution_count": 6,
   "id": "19aae833",
   "metadata": {},
   "outputs": [
    {
     "name": "stdout",
     "output_type": "stream",
     "text": [
      "[1, 2, 3, 7, 9, 87]\n"
     ]
    }
   ],
   "source": [
    "def quickSort(arr,left,right):\n",
    "    if left<right:\n",
    "        partition_pos=partition(arr,left,right)\n",
    "        quickSort(arr,left,partition_pos-1)\n",
    "        quickSort(arr,partition_pos +1,right)\n",
    "def partition(arr,left,right):\n",
    "    i=left\n",
    "    j=right-1\n",
    "    pivot=arr[right]\n",
    "    while i<j:\n",
    "        while i<right and arr[i]<pivot:\n",
    "            i+=1\n",
    "        while j>left and arr[j]>=pivot:\n",
    "            j-=1\n",
    "        if i<j:\n",
    "            arr[i],arr[j]=arr[j],arr[i]\n",
    "    if arr[i]>pivot:\n",
    "        arr[i],arr[right]=arr[right],arr[i]\n",
    "    return i\n",
    "arr=[2,1,3,87,9,7]\n",
    "quickSort(arr,0, len(arr)-1)\n",
    "print(arr)\n",
    "            "
   ]
  },
  {
   "cell_type": "markdown",
   "id": "d1ae12e5",
   "metadata": {},
   "source": [
    "# Insertion Sort\n",
    "\n",
    "### Best Case Complexity: O(n)\n",
    "When the array is already sorted\n",
    "\n",
    "### Worst Case Complexity: O(n2)\n",
    "Suppose, an array is in ascending order, and you want to sort it in descending order. In this case, worst case complexity occurs.\n",
    "### Average Case Complexity: O(n2)\n",
    "It occurs when the elements of an array are in jumbled order (neither ascending nor descending).\n",
    "\n",
    "### Space Complexity O(1) \n",
    "Because an extra variable key is used."
   ]
  },
  {
   "cell_type": "code",
   "execution_count": 7,
   "id": "6e5fbc31",
   "metadata": {},
   "outputs": [
    {
     "name": "stdout",
     "output_type": "stream",
     "text": [
      "[1, 7, 8, 9]\n"
     ]
    }
   ],
   "source": [
    "def insertion_sort(arr):\n",
    "    for i in range(1,len(arr)):\n",
    "        j=1\n",
    "        while arr[j-1]>arr[j] and j>0:\n",
    "            arr[j-1],arr[j]=arr[j],arr[j-1]\n",
    "            j-=1\n",
    "arr=[1,7,8,9]\n",
    "insertion_sort(arr)\n",
    "print(arr)"
   ]
  },
  {
   "cell_type": "markdown",
   "id": "059cfddf",
   "metadata": {},
   "source": [
    "# Bubble Sort\n",
    "### Best\tO(n)\n",
    "### Worst\tO(n2)\n",
    "### Average\tO(n2)\n",
    "### Space Complexity\tO(1)"
   ]
  },
  {
   "cell_type": "code",
   "execution_count": null,
   "id": "62e6e7f6",
   "metadata": {},
   "outputs": [],
   "source": [
    "def bubbleSort(array):\n",
    "  for i in range(len(array)):\n",
    "    swapped = False\n",
    "    for j in range(0, len(array) - i - 1):\n",
    "\n",
    "      if array[j] > array[j + 1]:\n",
    "        array[j] = array[j+1]\n",
    "        array[j+1] = temp\n",
    "\n",
    "        swapped = True\n",
    "    if not swapped:\n",
    "      break\n",
    "data = [-2, 45, 0, 11, -9]\n",
    "bubbleSort(data)\n",
    "print('Sorted Array in Ascending Order:')\n",
    "print(data)"
   ]
  },
  {
   "cell_type": "markdown",
   "id": "d2c4d4a3",
   "metadata": {},
   "source": [
    "# Merge_Sort\n",
    "### Best\tO(n*log n)\n",
    "### Worst\tO(n*log n)\n",
    "### Average\tO(n*log n)\n",
    "### Space Complexity\tO(n)\n",
    "### Stability\tYes"
   ]
  },
  {
   "cell_type": "code",
   "execution_count": 17,
   "id": "8bc9d045",
   "metadata": {},
   "outputs": [
    {
     "name": "stdout",
     "output_type": "stream",
     "text": [
      "Sorted array is: \n",
      "0 1 2 3 4 5 6 7 8 9 \n"
     ]
    }
   ],
   "source": [
    "def mergeSort(arr):\n",
    "\n",
    "    if len(arr) > 1:\n",
    "\n",
    "        a = len(arr)//2\n",
    "\n",
    "        l = arr[:a]\n",
    "\n",
    "        r = arr[a:]\n",
    "\n",
    "        # Sort the two halves\n",
    "\n",
    "        mergeSort(l)\n",
    "\n",
    "        mergeSort(r) \n",
    "\n",
    "        b = c = d = 0\n",
    "\n",
    "        while b < len(l) and c < len(r):\n",
    "\n",
    "            if l[b] < r[c]:\n",
    "\n",
    "                arr[d] = l[b]\n",
    "\n",
    "                b += 1\n",
    "\n",
    "            else:\n",
    "\n",
    "                arr[d] = r[c]\n",
    "\n",
    "                c += 1\n",
    "\n",
    "            d += 1\n",
    "\n",
    "        while b < len(l):\n",
    "\n",
    "            arr[d] = l[b]\n",
    "\n",
    "            b += 1\n",
    "\n",
    "            d += 1\n",
    "\n",
    "        while c < len(r):\n",
    "\n",
    "            arr[d] = r[c]\n",
    "\n",
    "            c += 1\n",
    "\n",
    "            d += 1\n",
    "\n",
    "\n",
    "def printList(arr):\n",
    "\n",
    "    for i in range(len(arr)):\n",
    "\n",
    "        print(arr[i], end=\" \")\n",
    "\n",
    "    print()\n",
    " \n",
    "\n",
    "# Driver program\n",
    "\n",
    "if __name__ == '__main__':\n",
    "\n",
    "    arr = [0,1,3,5,7,9,2,4,6,8] \n",
    "\n",
    "    mergeSort(arr) \n",
    "\n",
    "    print(\"Sorted array is: \")\n",
    "\n",
    "    printList(arr)"
   ]
  },
  {
   "cell_type": "markdown",
   "id": "c582c329",
   "metadata": {},
   "source": [
    "# Selection Sort\n",
    "### Best, Worst, Average\tO(n2)\n",
    "### Space Complexity\tO(1)\n",
    "### Stability\tNo"
   ]
  },
  {
   "cell_type": "code",
   "execution_count": 2,
   "id": "327c533d",
   "metadata": {},
   "outputs": [
    {
     "name": "stdout",
     "output_type": "stream",
     "text": [
      "[1, 2, 6, 8, 9, 10]\n"
     ]
    }
   ],
   "source": [
    "def selection_sort(arr):\n",
    "    for i in range(0,len(arr)-1):\n",
    "        cur_min_idx= i\n",
    "        for j in range(i+1,len(arr)):\n",
    "            if arr[j]<arr[cur_min_idx]:\n",
    "                cur_min_idx= j\n",
    "        arr[i],arr[cur_min_idx]=arr[cur_min_idx],arr[i]\n",
    "arr=[2,9,10,6,1,8]\n",
    "selection_sort(arr)\n",
    "print(arr)\n",
    "            \n",
    "    "
   ]
  },
  {
   "cell_type": "markdown",
   "id": "efdc8614",
   "metadata": {},
   "source": [
    "# Linear Search"
   ]
  },
  {
   "cell_type": "code",
   "execution_count": 3,
   "id": "51d77065",
   "metadata": {},
   "outputs": [
    {
     "name": "stdout",
     "output_type": "stream",
     "text": [
      "The key element is found\n"
     ]
    }
   ],
   "source": [
    "def linear_search(list1,key1):\n",
    "    for i in range(0,len(list1)):\n",
    "        if key1==list1[i]:\n",
    "            print('The key element is found')\n",
    "            break\n",
    "    else:\n",
    "        print('The element not found')\n",
    "l1=[2,3,4,5,90,127]\n",
    "key1=5\n",
    "linear_search(l1,key1)"
   ]
  },
  {
   "cell_type": "markdown",
   "id": "c6bbb807",
   "metadata": {},
   "source": [
    "# Examples"
   ]
  },
  {
   "cell_type": "markdown",
   "id": "b83fee4a",
   "metadata": {},
   "source": [
    "# 1 Merging two arrays"
   ]
  },
  {
   "cell_type": "code",
   "execution_count": 3,
   "id": "666a8e03",
   "metadata": {},
   "outputs": [
    {
     "name": "stdout",
     "output_type": "stream",
     "text": [
      "1 2 2 3 4 4 5 6 9 "
     ]
    }
   ],
   "source": [
    "def mergeArrays(arr1,arr2,n1,n2):\n",
    "    arr3=[None]*(n1+n2)\n",
    "    i=0\n",
    "    j=0\n",
    "    k=0\n",
    "    # Traveser the arrays\n",
    "    while i<n1 and j<n2:\n",
    "        if arr1[i]<arr2[j]:\n",
    "            arr3[k]=arr1[i]\n",
    "            k+=1\n",
    "            i+=1\n",
    "        else:\n",
    "            arr3[k]=arr2[j]\n",
    "            k+=1\n",
    "            j+=1\n",
    "    while i<n1:\n",
    "        arr3[k]=arr1[i]\n",
    "        k+=1\n",
    "        i+=1\n",
    "    while j<n2:\n",
    "        arr3[k]<arr2[j]\n",
    "        k+=1\n",
    "        j+=1\n",
    "    for i in range(n1+n2):\n",
    "        print(str(arr3[i]),end=' ')\n",
    "arr1=[2,3,4,9]\n",
    "n1=len(arr1)\n",
    "arr2=[1,2,4,5,6]\n",
    "n2=len(arr2)\n",
    "mergeArrays(arr1,arr2,n1,n2)"
   ]
  },
  {
   "cell_type": "markdown",
   "id": "6ac47d80",
   "metadata": {},
   "source": [
    "# 2. Sum of odd factors of a number"
   ]
  },
  {
   "cell_type": "code",
   "execution_count": 21,
   "id": "a2a39113",
   "metadata": {},
   "outputs": [
    {
     "name": "stdout",
     "output_type": "stream",
     "text": [
      "Enter the number:18\n"
     ]
    },
    {
     "data": {
      "text/plain": [
       "26"
      ]
     },
     "execution_count": 21,
     "metadata": {},
     "output_type": "execute_result"
    }
   ],
   "source": [
    "n=int(input('Enter the number:'))\n",
    "def listofFactors(n):\n",
    "    factor=[]\n",
    "    for i in range(1,n+1):\n",
    "        if n%i==0:\n",
    "            factor.append(i)\n",
    "    return factor\n",
    "def sumfac(factor):\n",
    "    sum=0\n",
    "    for j in range(len(factor)):\n",
    "        if factor[j]%2==0:\n",
    "            sum=sum+factor[j]\n",
    "    return sum\n",
    "factor=listofFactors(n)\n",
    "sumfac(factor)\n",
    "        "
   ]
  },
  {
   "cell_type": "markdown",
   "id": "d96d7302",
   "metadata": {},
   "source": [
    "# 3. Python program to find the sum of all even and odd digits of an integer list"
   ]
  },
  {
   "cell_type": "code",
   "execution_count": 27,
   "id": "a70ac84c",
   "metadata": {},
   "outputs": [
    {
     "name": "stdout",
     "output_type": "stream",
     "text": [
      "The original list is : [25, 35, 100, 128, 197]\n",
      "425\n",
      "228\n"
     ]
    }
   ],
   "source": [
    "tt=[25,35,100,128,197]\n",
    "print(\"The original list is : \" + str(tt))\n",
    "  \n",
    "odd_sum=0\n",
    "even_sum=0\n",
    "for i in range(len(tt)):\n",
    "    if tt[i]%2==0:\n",
    "        even_sum=even_sum+tt[i]\n",
    "    else:\n",
    "        odd_sum=even_sum+tt[i]\n",
    "print(odd_sum)\n",
    "print(even_sum)\n"
   ]
  },
  {
   "cell_type": "code",
   "execution_count": 22,
   "id": "f4b6e4c1",
   "metadata": {},
   "outputs": [
    {
     "data": {
      "text/plain": [
       "'[1, 4, 5, 6, 1]'"
      ]
     },
     "execution_count": 22,
     "metadata": {},
     "output_type": "execute_result"
    }
   ],
   "source": [
    "a=[1,4,5,6,1]\n",
    "str(a)"
   ]
  },
  {
   "cell_type": "markdown",
   "id": "cf61960d",
   "metadata": {},
   "source": [
    "# 4 Palindrome Partitioning\n",
    "### Minimum number of Cut"
   ]
  },
  {
   "cell_type": "code",
   "execution_count": 12,
   "id": "70cad141",
   "metadata": {},
   "outputs": [
    {
     "data": {
      "text/plain": [
       "3"
      ]
     },
     "execution_count": 12,
     "metadata": {},
     "output_type": "execute_result"
    }
   ],
   "source": [
    "# Define what is palindrome first\n",
    "def isPalindrome(x):\n",
    "    return x == x[::-1]\n",
    "#implement palidrom Partitioning\n",
    "def minPalPartion(string, i, j):\n",
    "    if i >= j or isPalindrome(string[i:j + 1]):\n",
    "        return 0\n",
    "    ans = float('inf')  #answer can be infinity \n",
    "    for k in range(i, j):\n",
    "        count = (\n",
    "            1 + minPalPartion(string, i, k)    #palidrome partitioning till k\n",
    "            + minPalPartion(string, k + 1, j)  #checking if the remaining elements are palindrome,\n",
    "                                                # if not, do the partition again\n",
    "        )\n",
    "        ans = min(ans, count)\n",
    "    return ans\n",
    "string = \"aaddbaba\"\n",
    "minPalPartion(string, 0, len(string) - 1)"
   ]
  },
  {
   "cell_type": "markdown",
   "id": "024348af",
   "metadata": {},
   "source": [
    "# 5 Fibbonacci series"
   ]
  },
  {
   "cell_type": "code",
   "execution_count": 31,
   "id": "120e6e33",
   "metadata": {},
   "outputs": [
    {
     "name": "stdout",
     "output_type": "stream",
     "text": [
      "Enter The number:12\n",
      "[0, 1, 1, 2, 3, 5, 8, 13, 21, 34, 55, 89]\n"
     ]
    }
   ],
   "source": [
    "x=int(input('Enter The number:'))\n",
    "def fibboc(x):\n",
    "    if(x==1):\n",
    "        return 0\n",
    "    elif x==2:\n",
    "        return 1\n",
    "    else:\n",
    "        return (fibboc(x-1)+fibboc(x-2))\n",
    "fibboc(x)\n",
    "l1=[]\n",
    "for i in range(1,x+1):\n",
    "    l1.append(fibboc(i))\n",
    "print(l1)\n"
   ]
  },
  {
   "cell_type": "markdown",
   "id": "62e99892",
   "metadata": {},
   "source": [
    "# 6 Armstrong Number"
   ]
  },
  {
   "cell_type": "code",
   "execution_count": 26,
   "id": "b1a9c14f",
   "metadata": {},
   "outputs": [
    {
     "name": "stdout",
     "output_type": "stream",
     "text": [
      "Enter the number:153\n"
     ]
    },
    {
     "data": {
      "text/plain": [
       "True"
      ]
     },
     "execution_count": 26,
     "metadata": {},
     "output_type": "execute_result"
    }
   ],
   "source": [
    "def order(x):\n",
    "  \n",
    "    # Variable to store of the number\n",
    "    n = 0\n",
    "    while (x != 0):\n",
    "        n = n + 1\n",
    "        x = x // 10\n",
    "          \n",
    "    return n\n",
    "def isArmstrong(x):\n",
    "    temp=x\n",
    "    sum1=0\n",
    "    n=order(x)\n",
    "    while(temp!=0):\n",
    "        r=temp%10\n",
    "        sum1=sum1+pow(r,n)\n",
    "        temp=temp//10\n",
    "    return(sum1==x)\n",
    "\n",
    "x=int(input('Enter the number:'))\n",
    "isArmstrong(x)"
   ]
  },
  {
   "cell_type": "markdown",
   "id": "5b2c12b1",
   "metadata": {},
   "source": [
    "# 7. Uncommon elements in Lists of List"
   ]
  },
  {
   "cell_type": "code",
   "execution_count": 4,
   "id": "027a5804",
   "metadata": {},
   "outputs": [
    {
     "name": "stdout",
     "output_type": "stream",
     "text": [
      "The original list 1 : [[1, 2], [3, 4], [5, 6]]\n",
      "The original list 2 : [[3, 4], [5, 7], [1, 2]]\n",
      "The uncommon of two lists is : [[5, 6], [5, 7]]\n"
     ]
    }
   ],
   "source": [
    "test_list1 = [ [1, 2], [3, 4], [5, 6] ]\n",
    "test_list2 = [ [3, 4], [5, 7], [1, 2] ]\n",
    " \n",
    "# printing both lists\n",
    "print (\"The original list 1 : \" + str(test_list1))\n",
    "print (\"The original list 2 : \" + str(test_list2))\n",
    " \n",
    "# using naive method\n",
    "# Uncommon elements in List\n",
    "res_list = []\n",
    "for i in test_list1:\n",
    "    if i not in test_list2:\n",
    "        res_list.append(i)\n",
    "for i in test_list2:\n",
    "    if i not in test_list1:\n",
    "        res_list.append(i)\n",
    "         \n",
    "# printing the uncommon\n",
    "print (\"The uncommon of two lists is : \" + str(res_list))"
   ]
  },
  {
   "cell_type": "markdown",
   "id": "85e1df80",
   "metadata": {},
   "source": [
    "# L&T Infotech 2022 Question\n",
    "## 8. Print the elements of which are not common in both the list"
   ]
  },
  {
   "cell_type": "code",
   "execution_count": 17,
   "id": "07effb02",
   "metadata": {},
   "outputs": [
    {
     "name": "stdout",
     "output_type": "stream",
     "text": [
      "10 25 40 50 "
     ]
    },
    {
     "ename": "NameError",
     "evalue": "name 'count' is not defined",
     "output_type": "error",
     "traceback": [
      "\u001b[1;31m---------------------------------------------------------------------------\u001b[0m",
      "\u001b[1;31mNameError\u001b[0m                                 Traceback (most recent call last)",
      "\u001b[1;32mC:\\Users\\FMKHAN~1\\AppData\\Local\\Temp/ipykernel_10664/445438613.py\u001b[0m in \u001b[0;36m<module>\u001b[1;34m\u001b[0m\n\u001b[0;32m     38\u001b[0m \u001b[1;33m\u001b[0m\u001b[0m\n\u001b[0;32m     39\u001b[0m \u001b[0mprintUncommon\u001b[0m\u001b[1;33m(\u001b[0m\u001b[0marr1\u001b[0m\u001b[1;33m,\u001b[0m \u001b[0marr2\u001b[0m\u001b[1;33m)\u001b[0m\u001b[1;33m\u001b[0m\u001b[1;33m\u001b[0m\u001b[0m\n\u001b[1;32m---> 40\u001b[1;33m \u001b[0mcount\u001b[0m\u001b[1;33m(\u001b[0m\u001b[0mprintUncommon\u001b[0m\u001b[1;33m(\u001b[0m\u001b[0marr1\u001b[0m\u001b[1;33m,\u001b[0m \u001b[0marr2\u001b[0m\u001b[1;33m)\u001b[0m\u001b[1;33m)\u001b[0m\u001b[1;33m\u001b[0m\u001b[1;33m\u001b[0m\u001b[0m\n\u001b[0m",
      "\u001b[1;31mNameError\u001b[0m: name 'count' is not defined"
     ]
    }
   ],
   "source": [
    "def printUncommon(arr1, arr2) :\n",
    "    n1=len(arr1)\n",
    "    n2=len(arr2)\n",
    "    i = 0\n",
    "    j = 0\n",
    "    k = 0\n",
    "    while (i < n1 and j < n2) :\n",
    " \n",
    "        # If not common, print smaller\n",
    "        if (arr1[i] < arr2[j]) :\n",
    "            print( arr1[i] , end= \" \")\n",
    "            i = i + 1\n",
    "            k = k + 1\n",
    "             \n",
    "        elif (arr2[j] < arr1[i]) :\n",
    "            print( arr2[j] , end= \" \")\n",
    "            k = k + 1\n",
    "            j = j + 1\n",
    "        else :\n",
    "            i = i + 1\n",
    "            j = j + 1\n",
    "     \n",
    "    # printing remaining elements\n",
    "    while (i < n1) :\n",
    "        print( arr1[i] , end= \" \")\n",
    "        i = i + 1\n",
    "        k = k + 1\n",
    "     \n",
    "    while (j < n2) :\n",
    "        print( arr2[j] , end= \" \")\n",
    "        j = j + 1\n",
    "        k = k + 1\n",
    "  \n",
    "  \n",
    "# Driver code\n",
    "arr1 = [10, 20, 30]\n",
    "arr2 = [20, 25, 30, 40, 50]\n",
    " \n",
    "printUncommon(arr1, arr2)\n",
    "count(printUncommon(arr1, arr2))"
   ]
  },
  {
   "cell_type": "code",
   "execution_count": null,
   "id": "eb5469b1",
   "metadata": {},
   "outputs": [],
   "source": []
  }
 ],
 "metadata": {
  "kernelspec": {
   "display_name": "Python 3 (ipykernel)",
   "language": "python",
   "name": "python3"
  },
  "language_info": {
   "codemirror_mode": {
    "name": "ipython",
    "version": 3
   },
   "file_extension": ".py",
   "mimetype": "text/x-python",
   "name": "python",
   "nbconvert_exporter": "python",
   "pygments_lexer": "ipython3",
   "version": "3.9.0"
  }
 },
 "nbformat": 4,
 "nbformat_minor": 5
}
